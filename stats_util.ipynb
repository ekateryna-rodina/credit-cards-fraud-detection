{
 "metadata": {
  "language_info": {
   "codemirror_mode": {
    "name": "ipython",
    "version": 3
   },
   "file_extension": ".py",
   "mimetype": "text/x-python",
   "name": "python",
   "nbconvert_exporter": "python",
   "pygments_lexer": "ipython3",
   "version": 3
  },
  "orig_nbformat": 2,
  "kernelspec": {
   "name": "python_defaultSpec_1595711926420",
   "display_name": "Python 3.7.7 64-bit"
  }
 },
 "nbformat": 4,
 "nbformat_minor": 2,
 "cells": [
  {
   "cell_type": "code",
   "execution_count": null,
   "metadata": {},
   "outputs": [],
   "source": [
    "import pandas as pd"
   ]
  },
  {
   "cell_type": "code",
   "execution_count": 1,
   "metadata": {},
   "outputs": [],
   "source": [
    "# Cohen's D is a statistic technoque inttended to define effect size by comparing diff between groups to a variability within groups.  \n",
    "# s polled standart deviation is a general variance across both selections\n",
    "# polled variance needs elements counntt for each selection \n",
    "# x1 median right selection\n",
    "# x2 median left selection\n",
    "# d = (x1 - x2)/s\n",
    "# use this metric when you want describe stattistical significance of diff - d < .2 - small diff"
   ]
  },
  {
   "cell_type": "code",
   "execution_count": null,
   "metadata": {},
   "outputs": [],
   "source": [
    "def cohen_effect_size(distr_1, distr_2):\n",
    "    mean_1, mean_2 = distr_1.mean(), distr_2.mean()\n",
    "    std_1, std_2 = distr_1.var(), distr_2()\n",
    "    # calculate the cohen's coeff \n",
    "    n_1, n_2 = len(distr_1), len(distr_2)\n",
    "    pooled_var = (n_1*std_1 + n_2*distr_2)/ sum([n_1, n_2])\n",
    "    d = abs(mean_2 - mean_1)/pooled_var\n",
    "    return d\n"
   ]
  }
 ]
}